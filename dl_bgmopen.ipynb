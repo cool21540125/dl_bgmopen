{
 "cells": [
  {
   "cell_type": "markdown",
   "metadata": {},
   "source": [
    "# http://data.gov.tw/node/6049\n",
    "# 公司解散登記清冊(月份)"
   ]
  },
  {
   "cell_type": "code",
   "execution_count": 102,
   "metadata": {
    "collapsed": true
   },
   "outputs": [],
   "source": [
    "import requests as r\n",
    "from bs4 import BeautifulSoup\n",
    "import lxml\n",
    "import os, sys\n",
    "import shutil"
   ]
  },
  {
   "cell_type": "code",
   "execution_count": 103,
   "metadata": {
    "collapsed": true
   },
   "outputs": [],
   "source": [
    "res = r.get('http://data.gov.tw/node/6049')"
   ]
  },
  {
   "cell_type": "code",
   "execution_count": 160,
   "metadata": {},
   "outputs": [
    {
     "data": {
      "text/plain": [
       "200"
      ]
     },
     "execution_count": 160,
     "metadata": {},
     "output_type": "execute_result"
    }
   ],
   "source": [
    "res.status_code"
   ]
  },
  {
   "cell_type": "code",
   "execution_count": 163,
   "metadata": {},
   "outputs": [
    {
     "data": {
      "text/plain": [
       "bs4.BeautifulSoup"
      ]
     },
     "execution_count": 163,
     "metadata": {},
     "output_type": "execute_result"
    }
   ],
   "source": [
    "soup = BeautifulSoup(res.text, \"lxml\")\n",
    "type(soup)"
   ]
  },
  {
   "cell_type": "code",
   "execution_count": 106,
   "metadata": {
    "collapsed": true
   },
   "outputs": [],
   "source": [
    "lst = soup.select('tr.view-res-c')"
   ]
  },
  {
   "cell_type": "code",
   "execution_count": 107,
   "metadata": {
    "collapsed": true
   },
   "outputs": [],
   "source": [
    "# 網址起始\n",
    "head = 'http://data.gov.tw/'"
   ]
  },
  {
   "cell_type": "code",
   "execution_count": 108,
   "metadata": {
    "scrolled": false
   },
   "outputs": [
    {
     "data": {
      "text/plain": [
       "'/home/tony/dl'"
      ]
     },
     "execution_count": 108,
     "metadata": {},
     "output_type": "execute_result"
    }
   ],
   "source": [
    "target_url = []\n",
    "fileNames = []\n",
    "path = [r'E:\\dl', r'/home/tony/dl']\n",
    "for i in path:\n",
    "    if os.path.exists(i):\n",
    "        os.chdir(i)\n",
    "os.getcwd()"
   ]
  },
  {
   "cell_type": "code",
   "execution_count": 165,
   "metadata": {},
   "outputs": [
    {
     "data": {
      "text/plain": [
       "<div class=\"item-list\"><ul class=\"pager\"><li class=\"pager-current first\">1</li>\n",
       "<li class=\"pager-item\"><a href=\"/node/6049?page=1\" title=\"到第 2 頁\">2</a></li>\n",
       "<li class=\"pager-item\"><a href=\"/node/6049?page=2\" title=\"到第 3 頁\">3</a></li>\n",
       "<li class=\"pager-next\"><a href=\"/node/6049?page=1\" title=\"到下一頁\">下一頁 ›</a></li>\n",
       "<li class=\"pager-last last\"><a href=\"/node/6049?page=2\" title=\"到最後一頁\">最後一頁 »</a></li>\n",
       "</ul></div>"
      ]
     },
     "execution_count": 165,
     "metadata": {},
     "output_type": "execute_result"
    }
   ],
   "source": [
    "soup.select('div.item-list')[0]"
   ]
  },
  {
   "cell_type": "code",
   "execution_count": 164,
   "metadata": {},
   "outputs": [
    {
     "data": {
      "text/plain": [
       "'http://data.gov.tw/node/6049?page=1'"
      ]
     },
     "execution_count": 164,
     "metadata": {},
     "output_type": "execute_result"
    }
   ],
   "source": [
    "url = head[:-1] + next_page\n",
    "next_page = soup.select('div.item-list')[0].select_one('li.pager-next').select('a')[0]['href']\n",
    "url"
   ]
  },
  {
   "cell_type": "code",
   "execution_count": 124,
   "metadata": {},
   "outputs": [
    {
     "data": {
      "text/plain": [
       "'下一頁 ›'"
      ]
     },
     "execution_count": 124,
     "metadata": {},
     "output_type": "execute_result"
    }
   ],
   "source": [
    "next_page = soup.select('div.item-list')\n",
    "next_page[0].select_one('li.pager-next').text"
   ]
  },
  {
   "cell_type": "code",
   "execution_count": 109,
   "metadata": {},
   "outputs": [],
   "source": [
    "# 仍然只鎖定在特定頁數\n",
    "for i in lst:\n",
    "    # 要下載檔案的待存檔名\n",
    "    fileName = i.select('td.views-field.views-field-field-resource-description-g')[0].text.strip() + '.csv'\n",
    "    \n",
    "    # 要下載檔案的個別網址\n",
    "    url = r.get(head + i.select_one('a')['href'])\n",
    "    \n",
    "    # 依照fileName, 寫入binary\n",
    "    file = open(fileName, 'wb')\n",
    "    \n",
    "    # buffered write\n",
    "    for chunk in url.iter_content(1000):\n",
    "        file.write(chunk)\n",
    "    \n",
    "    file.close()\n",
    "    url.close()"
   ]
  }
 ],
 "metadata": {
  "kernelspec": {
   "display_name": "Python 3",
   "language": "python",
   "name": "python3"
  },
  "language_info": {
   "codemirror_mode": {
    "name": "ipython",
    "version": 3
   },
   "file_extension": ".py",
   "mimetype": "text/x-python",
   "name": "python",
   "nbconvert_exporter": "python",
   "pygments_lexer": "ipython3",
   "version": "3.5.1"
  }
 },
 "nbformat": 4,
 "nbformat_minor": 2
}
